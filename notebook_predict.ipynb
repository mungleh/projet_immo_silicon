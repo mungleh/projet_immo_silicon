{
 "cells": [
  {
   "cell_type": "code",
   "execution_count": 46,
   "id": "b67369d9",
   "metadata": {},
   "outputs": [],
   "source": [
    "import pandas as pd\n",
    "import numpy as np\n",
    "from sklearn.preprocessing import OneHotEncoder, StandardScaler, RobustScaler, normalize, scale\n",
    "from sklearn.model_selection import train_test_split\n",
    "from sklearn.linear_model import LinearRegression\n",
    "from sklearn.model_selection import cross_validate\n",
    "\n",
    "\n",
    "import dill as pickle"
   ]
  },
  {
   "cell_type": "code",
   "execution_count": 53,
   "id": "23075ca4",
   "metadata": {},
   "outputs": [],
   "source": [
    "#import pickled function\n",
    "def pickle_import(func):\n",
    "    with open(f'{func}.pkl', 'rb') as file:\n",
    "        fonction = pickle.load(file)\n",
    "        return fonction"
   ]
  },
  {
   "cell_type": "code",
   "execution_count": 58,
   "id": "7a3a531e",
   "metadata": {},
   "outputs": [],
   "source": [
    "#cleaning function import\n",
    "cleaning = pickle_import(\"cleaning\")"
   ]
  },
  {
   "cell_type": "code",
   "execution_count": 49,
   "id": "0baef31f",
   "metadata": {},
   "outputs": [],
   "source": [
    "#model function import\n",
    "model = pickle_import(\"model\")"
   ]
  },
  {
   "cell_type": "code",
   "execution_count": 54,
   "id": "2c1167ac",
   "metadata": {},
   "outputs": [],
   "source": [
    "#makeshift pipeline :')\n",
    "def pipeline(data,target):\n",
    "    clean = cleaning(data)\n",
    "    linear = model(clean,\"median_house_value\")"
   ]
  },
  {
   "cell_type": "code",
   "execution_count": 56,
   "id": "de521cc1",
   "metadata": {},
   "outputs": [],
   "source": [
    "#test on raw dataset\n",
    "file = pd.read_csv(\"data/data.csv\", delimiter=\",\")"
   ]
  },
  {
   "cell_type": "code",
   "execution_count": 57,
   "id": "99b93eed",
   "metadata": {},
   "outputs": [
    {
     "name": "stdout",
     "output_type": "stream",
     "text": [
      "initial model score is 0.6498355886823745\n",
      "r2: 0.6496012523146572\n",
      "rmse: -68161.92722222568\n"
     ]
    }
   ],
   "source": [
    "#it works !\n",
    "pipeline(file,\"median_house_value\")"
   ]
  },
  {
   "cell_type": "code",
   "execution_count": null,
   "id": "89149e5e",
   "metadata": {},
   "outputs": [],
   "source": []
  }
 ],
 "metadata": {
  "kernelspec": {
   "display_name": "Python 3 (ipykernel)",
   "language": "python",
   "name": "python3"
  },
  "language_info": {
   "codemirror_mode": {
    "name": "ipython",
    "version": 3
   },
   "file_extension": ".py",
   "mimetype": "text/x-python",
   "name": "python",
   "nbconvert_exporter": "python",
   "pygments_lexer": "ipython3",
   "version": "3.8.12"
  },
  "toc": {
   "base_numbering": 1,
   "nav_menu": {},
   "number_sections": true,
   "sideBar": true,
   "skip_h1_title": false,
   "title_cell": "Table of Contents",
   "title_sidebar": "Contents",
   "toc_cell": false,
   "toc_position": {},
   "toc_section_display": true,
   "toc_window_display": false
  }
 },
 "nbformat": 4,
 "nbformat_minor": 5
}
