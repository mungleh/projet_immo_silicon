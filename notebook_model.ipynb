{
 "cells": [
  {
   "cell_type": "markdown",
   "id": "94cb59fa",
   "metadata": {},
   "source": [
    "### imports"
   ]
  },
  {
   "cell_type": "code",
   "execution_count": 32,
   "id": "84d66b64",
   "metadata": {},
   "outputs": [],
   "source": [
    "#Imports which i took from the model_evaluation notebook \n",
    "import numpy as np\n",
    "import pandas as pd\n",
    "import matplotlib.pyplot as plt\n",
    "import seaborn as sns\n",
    "import dill as pickle\n",
    "\n",
    "from sklearn.model_selection import train_test_split\n",
    "from sklearn.model_selection import cross_validate\n",
    "from sklearn.model_selection import cross_val_score\n",
    "from sklearn.model_selection import cross_val_predict\n",
    "from sklearn.linear_model import LinearRegression\n",
    "from sklearn.dummy import DummyClassifier\n",
    "from sklearn.neighbors import KNeighborsClassifier\n",
    "from sklearn.tree import DecisionTreeClassifier\n",
    "from sklearn.ensemble import RandomForestClassifier\n",
    "\n",
    "import math  \n",
    "from sklearn import metrics\n",
    "\n",
    "from sklearn.model_selection import learning_curve\n",
    "\n",
    "from statsmodels.stats.outliers_influence import variance_inflation_factor as vif\n",
    "\n",
    "from sklearn.inspection import permutation_importance\n",
    "import warnings\n",
    "warnings.simplefilter(action=\"ignore\")"
   ]
  },
  {
   "cell_type": "markdown",
   "id": "d29ed3a3",
   "metadata": {},
   "source": [
    "# model iterations (dummy,LinearRegression)"
   ]
  },
  {
   "cell_type": "markdown",
   "id": "bcae672c",
   "metadata": {
    "heading_collapsed": true
   },
   "source": [
    "## baseline first iteration - score:0.046"
   ]
  },
  {
   "cell_type": "code",
   "execution_count": 2,
   "id": "0cb084e6",
   "metadata": {
    "hidden": true
   },
   "outputs": [],
   "source": [
    "#importing the file\n",
    "iter1 = pd.read_pickle(\"data/iter1.pkl\")  "
   ]
  },
  {
   "cell_type": "code",
   "execution_count": 3,
   "id": "28d50c5f",
   "metadata": {
    "hidden": true
   },
   "outputs": [
    {
     "data": {
      "text/html": [
       "<div>\n",
       "<style scoped>\n",
       "    .dataframe tbody tr th:only-of-type {\n",
       "        vertical-align: middle;\n",
       "    }\n",
       "\n",
       "    .dataframe tbody tr th {\n",
       "        vertical-align: top;\n",
       "    }\n",
       "\n",
       "    .dataframe thead th {\n",
       "        text-align: right;\n",
       "    }\n",
       "</style>\n",
       "<table border=\"1\" class=\"dataframe\">\n",
       "  <thead>\n",
       "    <tr style=\"text-align: right;\">\n",
       "      <th></th>\n",
       "      <th>bloc_id</th>\n",
       "      <th>longitude</th>\n",
       "      <th>latitude</th>\n",
       "      <th>housing_median_age</th>\n",
       "      <th>total_rooms</th>\n",
       "      <th>total_bedrooms</th>\n",
       "      <th>population</th>\n",
       "      <th>households</th>\n",
       "      <th>median_income</th>\n",
       "      <th>median_house_value</th>\n",
       "      <th>ocean_proximity</th>\n",
       "    </tr>\n",
       "  </thead>\n",
       "  <tbody>\n",
       "    <tr>\n",
       "      <th>0</th>\n",
       "      <td>2072</td>\n",
       "      <td>-119.84</td>\n",
       "      <td>36.77</td>\n",
       "      <td>6.0</td>\n",
       "      <td>1853.0</td>\n",
       "      <td>473.0</td>\n",
       "      <td>1397.0</td>\n",
       "      <td>417.0</td>\n",
       "      <td>1.4817</td>\n",
       "      <td>72000.0</td>\n",
       "      <td>0</td>\n",
       "    </tr>\n",
       "    <tr>\n",
       "      <th>1</th>\n",
       "      <td>10600</td>\n",
       "      <td>-117.80</td>\n",
       "      <td>33.68</td>\n",
       "      <td>8.0</td>\n",
       "      <td>2032.0</td>\n",
       "      <td>349.0</td>\n",
       "      <td>862.0</td>\n",
       "      <td>340.0</td>\n",
       "      <td>6.9133</td>\n",
       "      <td>274100.0</td>\n",
       "      <td>1</td>\n",
       "    </tr>\n",
       "    <tr>\n",
       "      <th>2</th>\n",
       "      <td>2494</td>\n",
       "      <td>-120.19</td>\n",
       "      <td>36.60</td>\n",
       "      <td>25.0</td>\n",
       "      <td>875.0</td>\n",
       "      <td>214.0</td>\n",
       "      <td>931.0</td>\n",
       "      <td>214.0</td>\n",
       "      <td>1.5536</td>\n",
       "      <td>58300.0</td>\n",
       "      <td>0</td>\n",
       "    </tr>\n",
       "    <tr>\n",
       "      <th>3</th>\n",
       "      <td>4284</td>\n",
       "      <td>-118.32</td>\n",
       "      <td>34.10</td>\n",
       "      <td>31.0</td>\n",
       "      <td>622.0</td>\n",
       "      <td>229.0</td>\n",
       "      <td>597.0</td>\n",
       "      <td>227.0</td>\n",
       "      <td>1.5284</td>\n",
       "      <td>200000.0</td>\n",
       "      <td>1</td>\n",
       "    </tr>\n",
       "    <tr>\n",
       "      <th>4</th>\n",
       "      <td>16541</td>\n",
       "      <td>-121.23</td>\n",
       "      <td>37.79</td>\n",
       "      <td>21.0</td>\n",
       "      <td>1922.0</td>\n",
       "      <td>373.0</td>\n",
       "      <td>1130.0</td>\n",
       "      <td>372.0</td>\n",
       "      <td>4.0815</td>\n",
       "      <td>117900.0</td>\n",
       "      <td>0</td>\n",
       "    </tr>\n",
       "    <tr>\n",
       "      <th>...</th>\n",
       "      <td>...</td>\n",
       "      <td>...</td>\n",
       "      <td>...</td>\n",
       "      <td>...</td>\n",
       "      <td>...</td>\n",
       "      <td>...</td>\n",
       "      <td>...</td>\n",
       "      <td>...</td>\n",
       "      <td>...</td>\n",
       "      <td>...</td>\n",
       "      <td>...</td>\n",
       "    </tr>\n",
       "    <tr>\n",
       "      <th>16507</th>\n",
       "      <td>1099</td>\n",
       "      <td>-121.90</td>\n",
       "      <td>39.59</td>\n",
       "      <td>20.0</td>\n",
       "      <td>1465.0</td>\n",
       "      <td>278.0</td>\n",
       "      <td>745.0</td>\n",
       "      <td>250.0</td>\n",
       "      <td>3.0625</td>\n",
       "      <td>93800.0</td>\n",
       "      <td>0</td>\n",
       "    </tr>\n",
       "    <tr>\n",
       "      <th>16508</th>\n",
       "      <td>18898</td>\n",
       "      <td>-122.25</td>\n",
       "      <td>38.11</td>\n",
       "      <td>49.0</td>\n",
       "      <td>2365.0</td>\n",
       "      <td>504.0</td>\n",
       "      <td>1131.0</td>\n",
       "      <td>458.0</td>\n",
       "      <td>2.6133</td>\n",
       "      <td>103100.0</td>\n",
       "      <td>3</td>\n",
       "    </tr>\n",
       "    <tr>\n",
       "      <th>16509</th>\n",
       "      <td>11798</td>\n",
       "      <td>-121.22</td>\n",
       "      <td>38.92</td>\n",
       "      <td>19.0</td>\n",
       "      <td>2531.0</td>\n",
       "      <td>461.0</td>\n",
       "      <td>1206.0</td>\n",
       "      <td>429.0</td>\n",
       "      <td>4.4958</td>\n",
       "      <td>192600.0</td>\n",
       "      <td>0</td>\n",
       "    </tr>\n",
       "    <tr>\n",
       "      <th>16510</th>\n",
       "      <td>6637</td>\n",
       "      <td>-118.14</td>\n",
       "      <td>34.16</td>\n",
       "      <td>39.0</td>\n",
       "      <td>2776.0</td>\n",
       "      <td>840.0</td>\n",
       "      <td>2546.0</td>\n",
       "      <td>773.0</td>\n",
       "      <td>2.5750</td>\n",
       "      <td>153500.0</td>\n",
       "      <td>1</td>\n",
       "    </tr>\n",
       "    <tr>\n",
       "      <th>16511</th>\n",
       "      <td>2575</td>\n",
       "      <td>-124.13</td>\n",
       "      <td>40.80</td>\n",
       "      <td>31.0</td>\n",
       "      <td>2152.0</td>\n",
       "      <td>462.0</td>\n",
       "      <td>1259.0</td>\n",
       "      <td>420.0</td>\n",
       "      <td>2.2478</td>\n",
       "      <td>81100.0</td>\n",
       "      <td>2</td>\n",
       "    </tr>\n",
       "  </tbody>\n",
       "</table>\n",
       "<p>16512 rows × 11 columns</p>\n",
       "</div>"
      ],
      "text/plain": [
       "       bloc_id  longitude  latitude  housing_median_age  total_rooms  \\\n",
       "0         2072    -119.84     36.77                 6.0       1853.0   \n",
       "1        10600    -117.80     33.68                 8.0       2032.0   \n",
       "2         2494    -120.19     36.60                25.0        875.0   \n",
       "3         4284    -118.32     34.10                31.0        622.0   \n",
       "4        16541    -121.23     37.79                21.0       1922.0   \n",
       "...        ...        ...       ...                 ...          ...   \n",
       "16507     1099    -121.90     39.59                20.0       1465.0   \n",
       "16508    18898    -122.25     38.11                49.0       2365.0   \n",
       "16509    11798    -121.22     38.92                19.0       2531.0   \n",
       "16510     6637    -118.14     34.16                39.0       2776.0   \n",
       "16511     2575    -124.13     40.80                31.0       2152.0   \n",
       "\n",
       "       total_bedrooms  population  households  median_income  \\\n",
       "0               473.0      1397.0       417.0         1.4817   \n",
       "1               349.0       862.0       340.0         6.9133   \n",
       "2               214.0       931.0       214.0         1.5536   \n",
       "3               229.0       597.0       227.0         1.5284   \n",
       "4               373.0      1130.0       372.0         4.0815   \n",
       "...               ...         ...         ...            ...   \n",
       "16507           278.0       745.0       250.0         3.0625   \n",
       "16508           504.0      1131.0       458.0         2.6133   \n",
       "16509           461.0      1206.0       429.0         4.4958   \n",
       "16510           840.0      2546.0       773.0         2.5750   \n",
       "16511           462.0      1259.0       420.0         2.2478   \n",
       "\n",
       "       median_house_value  ocean_proximity  \n",
       "0                 72000.0                0  \n",
       "1                274100.0                1  \n",
       "2                 58300.0                0  \n",
       "3                200000.0                1  \n",
       "4                117900.0                0  \n",
       "...                   ...              ...  \n",
       "16507             93800.0                0  \n",
       "16508            103100.0                3  \n",
       "16509            192600.0                0  \n",
       "16510            153500.0                1  \n",
       "16511             81100.0                2  \n",
       "\n",
       "[16512 rows x 11 columns]"
      ]
     },
     "execution_count": 3,
     "metadata": {},
     "output_type": "execute_result"
    }
   ],
   "source": [
    "iter1"
   ]
  },
  {
   "cell_type": "code",
   "execution_count": 4,
   "id": "d59dd665",
   "metadata": {
    "hidden": true
   },
   "outputs": [],
   "source": [
    "#defining x and y for the dummy model\n",
    "y = iter1[\"median_house_value\"]\n",
    "x = iter1.drop(\"median_house_value\", axis=1)"
   ]
  },
  {
   "cell_type": "code",
   "execution_count": 5,
   "id": "7e1167fc",
   "metadata": {
    "hidden": true
   },
   "outputs": [
    {
     "data": {
      "text/plain": [
       "0.04620881782945736"
      ]
     },
     "execution_count": 5,
     "metadata": {},
     "output_type": "execute_result"
    }
   ],
   "source": [
    "# instantiate Dummy classifier\n",
    "dummy_clf = DummyClassifier(strategy=\"most_frequent\")\n",
    "\n",
    "# fit the modem\n",
    "dummy_clf.fit(x, y)\n",
    "\n",
    "# calculate the score\n",
    "dummy_clf.score(x, y)"
   ]
  },
  {
   "cell_type": "markdown",
   "id": "aa7b4140",
   "metadata": {
    "heading_collapsed": true
   },
   "source": [
    "## second iteration model - score: 0.6350 (the lineareg function is here)"
   ]
  },
  {
   "cell_type": "code",
   "execution_count": 6,
   "id": "4e40455a",
   "metadata": {
    "hidden": true
   },
   "outputs": [
    {
     "data": {
      "text/html": [
       "<div>\n",
       "<style scoped>\n",
       "    .dataframe tbody tr th:only-of-type {\n",
       "        vertical-align: middle;\n",
       "    }\n",
       "\n",
       "    .dataframe tbody tr th {\n",
       "        vertical-align: top;\n",
       "    }\n",
       "\n",
       "    .dataframe thead th {\n",
       "        text-align: right;\n",
       "    }\n",
       "</style>\n",
       "<table border=\"1\" class=\"dataframe\">\n",
       "  <thead>\n",
       "    <tr style=\"text-align: right;\">\n",
       "      <th></th>\n",
       "      <th>bloc_id</th>\n",
       "      <th>longitude</th>\n",
       "      <th>latitude</th>\n",
       "      <th>housing_median_age</th>\n",
       "      <th>total_rooms</th>\n",
       "      <th>total_bedrooms</th>\n",
       "      <th>population</th>\n",
       "      <th>households</th>\n",
       "      <th>median_income</th>\n",
       "      <th>median_house_value</th>\n",
       "      <th>ocean_proximity</th>\n",
       "    </tr>\n",
       "  </thead>\n",
       "  <tbody>\n",
       "    <tr>\n",
       "      <th>0</th>\n",
       "      <td>2072</td>\n",
       "      <td>-119.84</td>\n",
       "      <td>36.77</td>\n",
       "      <td>6.0</td>\n",
       "      <td>1853.0</td>\n",
       "      <td>473.0</td>\n",
       "      <td>1397.0</td>\n",
       "      <td>417.0</td>\n",
       "      <td>1.4817</td>\n",
       "      <td>72000.0</td>\n",
       "      <td>0</td>\n",
       "    </tr>\n",
       "    <tr>\n",
       "      <th>1</th>\n",
       "      <td>10600</td>\n",
       "      <td>-117.80</td>\n",
       "      <td>33.68</td>\n",
       "      <td>8.0</td>\n",
       "      <td>2032.0</td>\n",
       "      <td>349.0</td>\n",
       "      <td>862.0</td>\n",
       "      <td>340.0</td>\n",
       "      <td>6.9133</td>\n",
       "      <td>274100.0</td>\n",
       "      <td>1</td>\n",
       "    </tr>\n",
       "    <tr>\n",
       "      <th>2</th>\n",
       "      <td>2494</td>\n",
       "      <td>-120.19</td>\n",
       "      <td>36.60</td>\n",
       "      <td>25.0</td>\n",
       "      <td>875.0</td>\n",
       "      <td>214.0</td>\n",
       "      <td>931.0</td>\n",
       "      <td>214.0</td>\n",
       "      <td>1.5536</td>\n",
       "      <td>58300.0</td>\n",
       "      <td>0</td>\n",
       "    </tr>\n",
       "    <tr>\n",
       "      <th>3</th>\n",
       "      <td>4284</td>\n",
       "      <td>-118.32</td>\n",
       "      <td>34.10</td>\n",
       "      <td>31.0</td>\n",
       "      <td>622.0</td>\n",
       "      <td>229.0</td>\n",
       "      <td>597.0</td>\n",
       "      <td>227.0</td>\n",
       "      <td>1.5284</td>\n",
       "      <td>200000.0</td>\n",
       "      <td>1</td>\n",
       "    </tr>\n",
       "    <tr>\n",
       "      <th>4</th>\n",
       "      <td>16541</td>\n",
       "      <td>-121.23</td>\n",
       "      <td>37.79</td>\n",
       "      <td>21.0</td>\n",
       "      <td>1922.0</td>\n",
       "      <td>373.0</td>\n",
       "      <td>1130.0</td>\n",
       "      <td>372.0</td>\n",
       "      <td>4.0815</td>\n",
       "      <td>117900.0</td>\n",
       "      <td>0</td>\n",
       "    </tr>\n",
       "    <tr>\n",
       "      <th>...</th>\n",
       "      <td>...</td>\n",
       "      <td>...</td>\n",
       "      <td>...</td>\n",
       "      <td>...</td>\n",
       "      <td>...</td>\n",
       "      <td>...</td>\n",
       "      <td>...</td>\n",
       "      <td>...</td>\n",
       "      <td>...</td>\n",
       "      <td>...</td>\n",
       "      <td>...</td>\n",
       "    </tr>\n",
       "    <tr>\n",
       "      <th>16507</th>\n",
       "      <td>1099</td>\n",
       "      <td>-121.90</td>\n",
       "      <td>39.59</td>\n",
       "      <td>20.0</td>\n",
       "      <td>1465.0</td>\n",
       "      <td>278.0</td>\n",
       "      <td>745.0</td>\n",
       "      <td>250.0</td>\n",
       "      <td>3.0625</td>\n",
       "      <td>93800.0</td>\n",
       "      <td>0</td>\n",
       "    </tr>\n",
       "    <tr>\n",
       "      <th>16508</th>\n",
       "      <td>18898</td>\n",
       "      <td>-122.25</td>\n",
       "      <td>38.11</td>\n",
       "      <td>49.0</td>\n",
       "      <td>2365.0</td>\n",
       "      <td>504.0</td>\n",
       "      <td>1131.0</td>\n",
       "      <td>458.0</td>\n",
       "      <td>2.6133</td>\n",
       "      <td>103100.0</td>\n",
       "      <td>3</td>\n",
       "    </tr>\n",
       "    <tr>\n",
       "      <th>16509</th>\n",
       "      <td>11798</td>\n",
       "      <td>-121.22</td>\n",
       "      <td>38.92</td>\n",
       "      <td>19.0</td>\n",
       "      <td>2531.0</td>\n",
       "      <td>461.0</td>\n",
       "      <td>1206.0</td>\n",
       "      <td>429.0</td>\n",
       "      <td>4.4958</td>\n",
       "      <td>192600.0</td>\n",
       "      <td>0</td>\n",
       "    </tr>\n",
       "    <tr>\n",
       "      <th>16510</th>\n",
       "      <td>6637</td>\n",
       "      <td>-118.14</td>\n",
       "      <td>34.16</td>\n",
       "      <td>39.0</td>\n",
       "      <td>2776.0</td>\n",
       "      <td>840.0</td>\n",
       "      <td>2546.0</td>\n",
       "      <td>773.0</td>\n",
       "      <td>2.5750</td>\n",
       "      <td>153500.0</td>\n",
       "      <td>1</td>\n",
       "    </tr>\n",
       "    <tr>\n",
       "      <th>16511</th>\n",
       "      <td>2575</td>\n",
       "      <td>-124.13</td>\n",
       "      <td>40.80</td>\n",
       "      <td>31.0</td>\n",
       "      <td>2152.0</td>\n",
       "      <td>462.0</td>\n",
       "      <td>1259.0</td>\n",
       "      <td>420.0</td>\n",
       "      <td>2.2478</td>\n",
       "      <td>81100.0</td>\n",
       "      <td>2</td>\n",
       "    </tr>\n",
       "  </tbody>\n",
       "</table>\n",
       "<p>16512 rows × 11 columns</p>\n",
       "</div>"
      ],
      "text/plain": [
       "       bloc_id  longitude  latitude  housing_median_age  total_rooms  \\\n",
       "0         2072    -119.84     36.77                 6.0       1853.0   \n",
       "1        10600    -117.80     33.68                 8.0       2032.0   \n",
       "2         2494    -120.19     36.60                25.0        875.0   \n",
       "3         4284    -118.32     34.10                31.0        622.0   \n",
       "4        16541    -121.23     37.79                21.0       1922.0   \n",
       "...        ...        ...       ...                 ...          ...   \n",
       "16507     1099    -121.90     39.59                20.0       1465.0   \n",
       "16508    18898    -122.25     38.11                49.0       2365.0   \n",
       "16509    11798    -121.22     38.92                19.0       2531.0   \n",
       "16510     6637    -118.14     34.16                39.0       2776.0   \n",
       "16511     2575    -124.13     40.80                31.0       2152.0   \n",
       "\n",
       "       total_bedrooms  population  households  median_income  \\\n",
       "0               473.0      1397.0       417.0         1.4817   \n",
       "1               349.0       862.0       340.0         6.9133   \n",
       "2               214.0       931.0       214.0         1.5536   \n",
       "3               229.0       597.0       227.0         1.5284   \n",
       "4               373.0      1130.0       372.0         4.0815   \n",
       "...               ...         ...         ...            ...   \n",
       "16507           278.0       745.0       250.0         3.0625   \n",
       "16508           504.0      1131.0       458.0         2.6133   \n",
       "16509           461.0      1206.0       429.0         4.4958   \n",
       "16510           840.0      2546.0       773.0         2.5750   \n",
       "16511           462.0      1259.0       420.0         2.2478   \n",
       "\n",
       "       median_house_value  ocean_proximity  \n",
       "0                 72000.0                0  \n",
       "1                274100.0                1  \n",
       "2                 58300.0                0  \n",
       "3                200000.0                1  \n",
       "4                117900.0                0  \n",
       "...                   ...              ...  \n",
       "16507             93800.0                0  \n",
       "16508            103100.0                3  \n",
       "16509            192600.0                0  \n",
       "16510            153500.0                1  \n",
       "16511             81100.0                2  \n",
       "\n",
       "[16512 rows x 11 columns]"
      ]
     },
     "execution_count": 6,
     "metadata": {},
     "output_type": "execute_result"
    }
   ],
   "source": [
    "iter2 = pd.read_pickle(\"data/iter2.pkl\")\n",
    "iter2"
   ]
  },
  {
   "cell_type": "code",
   "execution_count": 30,
   "id": "56f4cfc3",
   "metadata": {
    "hidden": true
   },
   "outputs": [],
   "source": [
    "#making a function to do everything i need in a Linear regression\n",
    "def Lineareg(data,target):\n",
    "    #linear regression\n",
    "    y = data[target]\n",
    "    X = data.drop(target, axis=1)\n",
    "    X_train, X_test, y_train, y_test = train_test_split(X, y, test_size=.3, random_state=1)\n",
    "    model = LinearRegression()\n",
    "    model.fit(X_train, y_train)\n",
    "    print(f'initial model score is {model.score(X_test, y_test)}')\n",
    "    #cross validation\n",
    "    K = []\n",
    "    total_time = []\n",
    "    score = []\n",
    "    for k in range(2,20):\n",
    "        cross_val_results = cross_validate(model, X, y, cv=k)\n",
    "        total_time.append(sum(cross_val_results['fit_time'])+sum(cross_val_results['score_time']))\n",
    "        K.append(k)\n",
    "        score.append(cross_val_results['test_score'].mean())\n",
    "    #wrote these 2 lines to select the best cross validate value\n",
    "    best_cv = pd.DataFrame({'K': K,'score': score})\n",
    "    cross = best_cv.query(f'score=={max(score)}')['K'].item()\n",
    "    cv_results = cross_validate(model,X, y,cv=cross, scoring=('r2', 'neg_root_mean_squared_error','neg_mean_absolute_error'))\n",
    "    r2 = cv_results['test_r2'].mean()\n",
    "    rmse = cv_results['test_neg_root_mean_squared_error'].mean()\n",
    "    print(f'r2: {r2}')\n",
    "    print(f'rmse: {rmse}')"
   ]
  },
  {
   "cell_type": "code",
   "execution_count": 34,
   "id": "57ace2f2",
   "metadata": {
    "hidden": true
   },
   "outputs": [],
   "source": [
    "#export as pickle\n",
    "with open('model.pkl', 'wb') as file:\n",
    "        pickle.dump(Lineareg,file)"
   ]
  },
  {
   "cell_type": "code",
   "execution_count": 31,
   "id": "78fcd995",
   "metadata": {
    "hidden": true,
    "scrolled": false
   },
   "outputs": [
    {
     "name": "stdout",
     "output_type": "stream",
     "text": [
      "initial model score is 0.6350614875943679\n",
      "r2: 0.63881425552166\n",
      "rmse: -69205.21355025069\n"
     ]
    }
   ],
   "source": [
    "Lineareg(iter2,\"median_house_value\")"
   ]
  },
  {
   "cell_type": "markdown",
   "id": "bdfc2ff8",
   "metadata": {
    "heading_collapsed": true
   },
   "source": [
    "## third iteration model - score:  0.6185"
   ]
  },
  {
   "cell_type": "code",
   "execution_count": 9,
   "id": "39ed388e",
   "metadata": {
    "hidden": true,
    "scrolled": true
   },
   "outputs": [
    {
     "name": "stdout",
     "output_type": "stream",
     "text": [
      "initial model score is 0.6185272172234932\n",
      "r2: 0.6081291779140877\n",
      "rmse: -58708.93719557278\n"
     ]
    }
   ],
   "source": [
    "iter3 = pd.read_pickle(\"data/iter3.pkl\")\n",
    "Lineareg(iter3,\"median_house_value\")"
   ]
  },
  {
   "cell_type": "markdown",
   "id": "a371eb02",
   "metadata": {
    "heading_collapsed": true
   },
   "source": [
    "## fourth iteration model - score: 0.6360"
   ]
  },
  {
   "cell_type": "code",
   "execution_count": 10,
   "id": "31546aeb",
   "metadata": {
    "hidden": true
   },
   "outputs": [
    {
     "name": "stdout",
     "output_type": "stream",
     "text": [
      "initial model score is 0.6360002572868537\n",
      "r2: 0.6397597795082213\n",
      "rmse: -69154.2193492309\n"
     ]
    }
   ],
   "source": [
    "iter4 = pd.read_pickle(\"data/iter4.pkl\")\n",
    "Lineareg(iter4,\"median_house_value\")"
   ]
  },
  {
   "cell_type": "markdown",
   "id": "73876820",
   "metadata": {
    "heading_collapsed": true
   },
   "source": [
    "## fifth iteration model - score: 0.6169"
   ]
  },
  {
   "cell_type": "code",
   "execution_count": 11,
   "id": "00d5ddb1",
   "metadata": {
    "hidden": true
   },
   "outputs": [
    {
     "name": "stdout",
     "output_type": "stream",
     "text": [
      "initial model score is 0.6169227555786434\n",
      "r2: 0.6177569431410561\n",
      "rmse: -56656.626845464445\n"
     ]
    }
   ],
   "source": [
    "iter5 = pd.read_pickle(\"data/iter5.pkl\")\n",
    "Lineareg(iter5,\"median_house_value\")"
   ]
  },
  {
   "cell_type": "markdown",
   "id": "eb6c9c09",
   "metadata": {
    "heading_collapsed": true
   },
   "source": [
    "## sixth iteration model - score: 0.6360"
   ]
  },
  {
   "cell_type": "code",
   "execution_count": 12,
   "id": "be9fee37",
   "metadata": {
    "hidden": true
   },
   "outputs": [
    {
     "name": "stdout",
     "output_type": "stream",
     "text": [
      "initial model score is 0.6360861449922407\n",
      "r2: 0.6398649288734601\n",
      "rmse: -69144.16949423551\n"
     ]
    }
   ],
   "source": [
    "iter6 = pd.read_pickle(\"data/iter6.pkl\")\n",
    "Lineareg(iter6,\"median_house_value\")"
   ]
  },
  {
   "cell_type": "markdown",
   "id": "bdce8d1b",
   "metadata": {
    "heading_collapsed": true
   },
   "source": [
    "## seventh iteration model - score: 0.6169"
   ]
  },
  {
   "cell_type": "code",
   "execution_count": 13,
   "id": "b70cddfb",
   "metadata": {
    "hidden": true
   },
   "outputs": [
    {
     "name": "stdout",
     "output_type": "stream",
     "text": [
      "initial model score is 0.6169267334476197\n",
      "r2: 0.6179398130389817\n",
      "rmse: -56642.991604169285\n"
     ]
    }
   ],
   "source": [
    "iter7 = pd.read_pickle(\"data/iter7.pkl\")\n",
    "Lineareg(iter7,\"median_house_value\")"
   ]
  },
  {
   "cell_type": "markdown",
   "id": "bd30d741",
   "metadata": {
    "heading_collapsed": true
   },
   "source": [
    "## eigth iteration model - score: 0.6450"
   ]
  },
  {
   "cell_type": "code",
   "execution_count": 14,
   "id": "4382d941",
   "metadata": {
    "hidden": true,
    "scrolled": true
   },
   "outputs": [
    {
     "name": "stdout",
     "output_type": "stream",
     "text": [
      "initial model score is 0.6450309914821523\n",
      "r2: 0.6467681927019666\n",
      "rmse: -68460.69034423704\n"
     ]
    }
   ],
   "source": [
    "iter8 = pd.read_pickle(\"data/iter8.pkl\")\n",
    "Lineareg(iter8,\"median_house_value\")"
   ]
  },
  {
   "cell_type": "markdown",
   "id": "c8b55b1d",
   "metadata": {
    "heading_collapsed": true
   },
   "source": [
    "## ninth iteration model - score: none"
   ]
  },
  {
   "cell_type": "code",
   "execution_count": 15,
   "id": "00c62ca8",
   "metadata": {
    "hidden": true,
    "scrolled": true
   },
   "outputs": [],
   "source": [
    "#can't work because of the string type of the binned house median age\n",
    "# iter9 = pd.read_pickle(\"data/iter9.pkl\")\n",
    "# Lineareg(iter9,\"median_house_value\")"
   ]
  },
  {
   "cell_type": "markdown",
   "id": "4297b5cf",
   "metadata": {
    "heading_collapsed": true
   },
   "source": [
    "## tenth iteration model - score: 0.6498 best*"
   ]
  },
  {
   "cell_type": "code",
   "execution_count": 16,
   "id": "e6c9e9d1",
   "metadata": {
    "hidden": true
   },
   "outputs": [
    {
     "name": "stdout",
     "output_type": "stream",
     "text": [
      "initial model score is 0.6498355886823779\n",
      "r2: 0.6496012523146573\n",
      "rmse: -68161.92722222565\n"
     ]
    }
   ],
   "source": [
    "iter10 = pd.read_pickle(\"data/iter10.pkl\")\n",
    "Lineareg(iter10,\"median_house_value\")"
   ]
  },
  {
   "cell_type": "markdown",
   "id": "174a920a",
   "metadata": {
    "heading_collapsed": true
   },
   "source": [
    "## eleventh iteration model - score: 0.6498"
   ]
  },
  {
   "cell_type": "code",
   "execution_count": 17,
   "id": "c1e02702",
   "metadata": {
    "hidden": true
   },
   "outputs": [
    {
     "name": "stdout",
     "output_type": "stream",
     "text": [
      "initial model score is 0.6498355886823752\n",
      "r2: 0.6496012523146564\n",
      "rmse: -68161.92722222574\n"
     ]
    }
   ],
   "source": [
    "iter11 = pd.read_pickle(\"data/iter11.pkl\")\n",
    "Lineareg(iter11,\"median_house_value\")"
   ]
  },
  {
   "cell_type": "markdown",
   "id": "7416ff70",
   "metadata": {
    "heading_collapsed": true
   },
   "source": [
    "## twelth iteration model - score: 0.6498"
   ]
  },
  {
   "cell_type": "code",
   "execution_count": 18,
   "id": "54489e83",
   "metadata": {
    "hidden": true
   },
   "outputs": [
    {
     "name": "stdout",
     "output_type": "stream",
     "text": [
      "initial model score is 0.6498355886823753\n",
      "r2: 0.6496012523146564\n",
      "rmse: -68161.92722222574\n"
     ]
    }
   ],
   "source": [
    "iter12 = pd.read_pickle(\"data/iter12.pkl\")\n",
    "Lineareg(iter12,\"median_house_value\")"
   ]
  },
  {
   "cell_type": "markdown",
   "id": "a544f318",
   "metadata": {
    "heading_collapsed": true
   },
   "source": [
    "## thirtheenth iteration model - score: 0.5331"
   ]
  },
  {
   "cell_type": "code",
   "execution_count": 19,
   "id": "01e2936d",
   "metadata": {
    "hidden": true
   },
   "outputs": [
    {
     "name": "stdout",
     "output_type": "stream",
     "text": [
      "initial model score is 0.5331797419092961\n",
      "r2: 0.5338429008155616\n",
      "rmse: -78588.2948120826\n"
     ]
    }
   ],
   "source": [
    "#it's so much worse after normalizing, why ???\n",
    "iter13 = pd.read_pickle(\"data/iter13.pkl\")\n",
    "Lineareg(iter13,\"median_house_value\")"
   ]
  },
  {
   "cell_type": "markdown",
   "id": "2650f91b",
   "metadata": {
    "heading_collapsed": true
   },
   "source": [
    "## fourteenth iteration model - score: "
   ]
  },
  {
   "cell_type": "code",
   "execution_count": 20,
   "id": "b825858d",
   "metadata": {
    "hidden": true
   },
   "outputs": [],
   "source": [
    "# iter14 = pd.read_pickle(\"data/iter14.pkl\")\n",
    "# Lineareg(iter14,\"median_house_value\")"
   ]
  },
  {
   "cell_type": "markdown",
   "id": "122366b5",
   "metadata": {},
   "source": [
    "# KNN - wanted to try other models so i see what i can get"
   ]
  },
  {
   "cell_type": "markdown",
   "id": "f6b8e056",
   "metadata": {
    "heading_collapsed": true
   },
   "source": [
    "## KNN function"
   ]
  },
  {
   "cell_type": "code",
   "execution_count": 21,
   "id": "b2b940f0",
   "metadata": {
    "hidden": true
   },
   "outputs": [],
   "source": [
    "#8 neighboors seems to give the most accuracy for the normalized iteration\n",
    "def KNN(data,target):\n",
    "    y = data[target]\n",
    "    X = data.drop(target, axis=1)\n",
    "    X_train, X_test, y_train, y_test = train_test_split(X, y, test_size=.3, random_state=1)\n",
    "    knn = KNeighborsClassifier(n_neighbors=8)\n",
    "\n",
    "    #Train the model using the training sets\n",
    "    knn.fit(X_train, y_train)\n",
    "\n",
    "    #Predict the response for test dataset\n",
    "    y_pred = knn.predict(X_test)\n",
    "    print(\"Accuracy:\",metrics.accuracy_score(y_test, y_pred))"
   ]
  },
  {
   "cell_type": "markdown",
   "id": "29a40d81",
   "metadata": {
    "heading_collapsed": true
   },
   "source": [
    "## iterations, the results are very bad, i will try to understand what is missing"
   ]
  },
  {
   "cell_type": "code",
   "execution_count": 22,
   "id": "d3c966c4",
   "metadata": {
    "hidden": true
   },
   "outputs": [
    {
     "name": "stdout",
     "output_type": "stream",
     "text": [
      "Accuracy: 0.03088413403310456\n"
     ]
    }
   ],
   "source": [
    "#best Lineareg iteration\n",
    "KNN(iter10,\"median_house_value\")"
   ]
  },
  {
   "cell_type": "code",
   "execution_count": 23,
   "id": "5b1d78fa",
   "metadata": {
    "hidden": true
   },
   "outputs": [
    {
     "name": "stdout",
     "output_type": "stream",
     "text": [
      "Accuracy: 0.03552684699232943\n"
     ]
    }
   ],
   "source": [
    "#using the normalized data apparently is better\n",
    "#and looking at the accuracy, it is\n",
    "KNN(iter13,\"median_house_value\")"
   ]
  },
  {
   "cell_type": "markdown",
   "id": "427b72a5",
   "metadata": {
    "heading_collapsed": true
   },
   "source": [
    "# DecisionTree - same as KNN"
   ]
  },
  {
   "cell_type": "code",
   "execution_count": 24,
   "id": "825d1af3",
   "metadata": {
    "hidden": true
   },
   "outputs": [],
   "source": [
    "def decisiontree(data,target):\n",
    "    y = data[target]\n",
    "    X = data.drop(target, axis=1)\n",
    "    X_train, X_test, y_train, y_test = train_test_split(X, y, test_size=.3, random_state=1)\n",
    "    clf = DecisionTreeClassifier()\n",
    "    clf = clf.fit(X_train,y_train)\n",
    "    y_pred = clf.predict(X_test)\n",
    "    print(\"Accuracy:\",metrics.accuracy_score(y_test, y_pred))"
   ]
  },
  {
   "cell_type": "code",
   "execution_count": 25,
   "id": "f4e934f2",
   "metadata": {
    "hidden": true
   },
   "outputs": [
    {
     "name": "stdout",
     "output_type": "stream",
     "text": [
      "Accuracy: 0.026846992329430764\n"
     ]
    }
   ],
   "source": [
    "decisiontree(iter10,\"median_house_value\")"
   ]
  },
  {
   "cell_type": "code",
   "execution_count": 26,
   "id": "bd147c88",
   "metadata": {
    "hidden": true
   },
   "outputs": [
    {
     "name": "stdout",
     "output_type": "stream",
     "text": [
      "Accuracy: 0.027250706499798143\n"
     ]
    }
   ],
   "source": [
    "decisiontree(iter12,\"median_house_value\")"
   ]
  },
  {
   "cell_type": "markdown",
   "id": "d86796f0",
   "metadata": {
    "heading_collapsed": true
   },
   "source": [
    "# random forest - doesn't work at all"
   ]
  },
  {
   "cell_type": "code",
   "execution_count": 27,
   "id": "30fb3678",
   "metadata": {
    "hidden": true
   },
   "outputs": [],
   "source": [
    "def rf(data,target):\n",
    "    y = data[target]\n",
    "    X = data.drop(target, axis=1)\n",
    "    X_train, X_test, y_train, y_test = train_test_split(X, y, test_size=.3, random_state=1)\n",
    "    clf=RandomForestClassifier(n_estimators=100)\n",
    "    clf.fit(X_train,y_train)\n",
    "    y_pred=clf.predict(X_test)\n",
    "    print(\"Accuracy:\",metrics.accuracy_score(y_test, y_pred))"
   ]
  },
  {
   "cell_type": "code",
   "execution_count": 28,
   "id": "0ac747fd",
   "metadata": {
    "hidden": true
   },
   "outputs": [],
   "source": [
    "# rf(iter10,\"median_house_value\")"
   ]
  },
  {
   "cell_type": "code",
   "execution_count": 29,
   "id": "177aa4c9",
   "metadata": {
    "hidden": true
   },
   "outputs": [],
   "source": [
    "# rf(iter12,\"median_house_value\")"
   ]
  },
  {
   "cell_type": "code",
   "execution_count": null,
   "id": "c3a151d1",
   "metadata": {
    "hidden": true
   },
   "outputs": [],
   "source": []
  }
 ],
 "metadata": {
  "kernelspec": {
   "display_name": "Python 3 (ipykernel)",
   "language": "python",
   "name": "python3"
  },
  "language_info": {
   "codemirror_mode": {
    "name": "ipython",
    "version": 3
   },
   "file_extension": ".py",
   "mimetype": "text/x-python",
   "name": "python",
   "nbconvert_exporter": "python",
   "pygments_lexer": "ipython3",
   "version": "3.8.12"
  },
  "toc": {
   "base_numbering": 1,
   "nav_menu": {},
   "number_sections": true,
   "sideBar": true,
   "skip_h1_title": false,
   "title_cell": "Table of Contents",
   "title_sidebar": "Contents",
   "toc_cell": false,
   "toc_position": {},
   "toc_section_display": true,
   "toc_window_display": false
  }
 },
 "nbformat": 4,
 "nbformat_minor": 5
}
