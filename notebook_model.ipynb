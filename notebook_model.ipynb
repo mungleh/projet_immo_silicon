{
 "cells": [
  {
   "cell_type": "code",
   "execution_count": 5,
   "id": "e0bbbf13",
   "metadata": {},
   "outputs": [],
   "source": [
    "# Imports which i took from the model_evaluation notebook \n",
    "import numpy as np\n",
    "import pandas as pd\n",
    "import matplotlib.pyplot as plt\n",
    "import seaborn as sns\n",
    "\n",
    "from sklearn.model_selection import train_test_split\n",
    "from sklearn.model_selection import cross_validate\n",
    "from sklearn.model_selection import cross_val_score\n",
    "from sklearn.model_selection import cross_val_predict\n",
    "\n",
    "from sklearn.linear_model import LinearRegression\n",
    "from sklearn.dummy import DummyClassifier\n",
    "\n",
    "from sklearn.metrics import accuracy_score, precision_score, recall_score, f1_score, \\\n",
    "    confusion_matrix, classification_report\n",
    "\n",
    "from sklearn.metrics import roc_auc_score, plot_roc_curve, roc_curve\n",
    "from sklearn.metrics import average_precision_score\n",
    "from sklearn.metrics import precision_recall_curve,plot_precision_recall_curve\n",
    "\n",
    "from sklearn.model_selection import learning_curve\n",
    "\n",
    "from statsmodels.stats.outliers_influence import variance_inflation_factor as vif\n",
    "\n",
    "from sklearn.inspection import permutation_importance\n",
    "import warnings\n",
    "warnings.simplefilter(action=\"ignore\")"
   ]
  },
  {
   "cell_type": "code",
   "execution_count": 24,
   "id": "0cb084e6",
   "metadata": {},
   "outputs": [],
   "source": [
    "#importing the file\n",
    "df = pd.read_pickle(\"data/EDA.pkl\")  "
   ]
  },
  {
   "cell_type": "code",
   "execution_count": 26,
   "id": "28d50c5f",
   "metadata": {},
   "outputs": [
    {
     "data": {
      "text/html": [
       "<div>\n",
       "<style scoped>\n",
       "    .dataframe tbody tr th:only-of-type {\n",
       "        vertical-align: middle;\n",
       "    }\n",
       "\n",
       "    .dataframe tbody tr th {\n",
       "        vertical-align: top;\n",
       "    }\n",
       "\n",
       "    .dataframe thead th {\n",
       "        text-align: right;\n",
       "    }\n",
       "</style>\n",
       "<table border=\"1\" class=\"dataframe\">\n",
       "  <thead>\n",
       "    <tr style=\"text-align: right;\">\n",
       "      <th></th>\n",
       "      <th>housing_median_age</th>\n",
       "      <th>total_rooms</th>\n",
       "      <th>total_bedrooms</th>\n",
       "      <th>population</th>\n",
       "      <th>households</th>\n",
       "      <th>median_income</th>\n",
       "      <th>median_house_value</th>\n",
       "    </tr>\n",
       "  </thead>\n",
       "  <tbody>\n",
       "    <tr>\n",
       "      <th>0</th>\n",
       "      <td>6.0</td>\n",
       "      <td>1853.0</td>\n",
       "      <td>473.0</td>\n",
       "      <td>1397.0</td>\n",
       "      <td>417.0</td>\n",
       "      <td>1.4817</td>\n",
       "      <td>72000.0</td>\n",
       "    </tr>\n",
       "    <tr>\n",
       "      <th>1</th>\n",
       "      <td>8.0</td>\n",
       "      <td>2032.0</td>\n",
       "      <td>349.0</td>\n",
       "      <td>862.0</td>\n",
       "      <td>340.0</td>\n",
       "      <td>6.9133</td>\n",
       "      <td>274100.0</td>\n",
       "    </tr>\n",
       "    <tr>\n",
       "      <th>2</th>\n",
       "      <td>25.0</td>\n",
       "      <td>875.0</td>\n",
       "      <td>214.0</td>\n",
       "      <td>931.0</td>\n",
       "      <td>214.0</td>\n",
       "      <td>1.5536</td>\n",
       "      <td>58300.0</td>\n",
       "    </tr>\n",
       "    <tr>\n",
       "      <th>3</th>\n",
       "      <td>31.0</td>\n",
       "      <td>622.0</td>\n",
       "      <td>229.0</td>\n",
       "      <td>597.0</td>\n",
       "      <td>227.0</td>\n",
       "      <td>1.5284</td>\n",
       "      <td>200000.0</td>\n",
       "    </tr>\n",
       "    <tr>\n",
       "      <th>4</th>\n",
       "      <td>21.0</td>\n",
       "      <td>1922.0</td>\n",
       "      <td>373.0</td>\n",
       "      <td>1130.0</td>\n",
       "      <td>372.0</td>\n",
       "      <td>4.0815</td>\n",
       "      <td>117900.0</td>\n",
       "    </tr>\n",
       "    <tr>\n",
       "      <th>...</th>\n",
       "      <td>...</td>\n",
       "      <td>...</td>\n",
       "      <td>...</td>\n",
       "      <td>...</td>\n",
       "      <td>...</td>\n",
       "      <td>...</td>\n",
       "      <td>...</td>\n",
       "    </tr>\n",
       "    <tr>\n",
       "      <th>16507</th>\n",
       "      <td>20.0</td>\n",
       "      <td>1465.0</td>\n",
       "      <td>278.0</td>\n",
       "      <td>745.0</td>\n",
       "      <td>250.0</td>\n",
       "      <td>3.0625</td>\n",
       "      <td>93800.0</td>\n",
       "    </tr>\n",
       "    <tr>\n",
       "      <th>16508</th>\n",
       "      <td>49.0</td>\n",
       "      <td>2365.0</td>\n",
       "      <td>504.0</td>\n",
       "      <td>1131.0</td>\n",
       "      <td>458.0</td>\n",
       "      <td>2.6133</td>\n",
       "      <td>103100.0</td>\n",
       "    </tr>\n",
       "    <tr>\n",
       "      <th>16509</th>\n",
       "      <td>19.0</td>\n",
       "      <td>2531.0</td>\n",
       "      <td>461.0</td>\n",
       "      <td>1206.0</td>\n",
       "      <td>429.0</td>\n",
       "      <td>4.4958</td>\n",
       "      <td>192600.0</td>\n",
       "    </tr>\n",
       "    <tr>\n",
       "      <th>16510</th>\n",
       "      <td>39.0</td>\n",
       "      <td>2776.0</td>\n",
       "      <td>840.0</td>\n",
       "      <td>2546.0</td>\n",
       "      <td>773.0</td>\n",
       "      <td>2.5750</td>\n",
       "      <td>153500.0</td>\n",
       "    </tr>\n",
       "    <tr>\n",
       "      <th>16511</th>\n",
       "      <td>31.0</td>\n",
       "      <td>2152.0</td>\n",
       "      <td>462.0</td>\n",
       "      <td>1259.0</td>\n",
       "      <td>420.0</td>\n",
       "      <td>2.2478</td>\n",
       "      <td>81100.0</td>\n",
       "    </tr>\n",
       "  </tbody>\n",
       "</table>\n",
       "<p>14091 rows × 7 columns</p>\n",
       "</div>"
      ],
      "text/plain": [
       "       housing_median_age  total_rooms  total_bedrooms  population  \\\n",
       "0                     6.0       1853.0           473.0      1397.0   \n",
       "1                     8.0       2032.0           349.0       862.0   \n",
       "2                    25.0        875.0           214.0       931.0   \n",
       "3                    31.0        622.0           229.0       597.0   \n",
       "4                    21.0       1922.0           373.0      1130.0   \n",
       "...                   ...          ...             ...         ...   \n",
       "16507                20.0       1465.0           278.0       745.0   \n",
       "16508                49.0       2365.0           504.0      1131.0   \n",
       "16509                19.0       2531.0           461.0      1206.0   \n",
       "16510                39.0       2776.0           840.0      2546.0   \n",
       "16511                31.0       2152.0           462.0      1259.0   \n",
       "\n",
       "       households  median_income  median_house_value  \n",
       "0           417.0         1.4817             72000.0  \n",
       "1           340.0         6.9133            274100.0  \n",
       "2           214.0         1.5536             58300.0  \n",
       "3           227.0         1.5284            200000.0  \n",
       "4           372.0         4.0815            117900.0  \n",
       "...           ...            ...                 ...  \n",
       "16507       250.0         3.0625             93800.0  \n",
       "16508       458.0         2.6133            103100.0  \n",
       "16509       429.0         4.4958            192600.0  \n",
       "16510       773.0         2.5750            153500.0  \n",
       "16511       420.0         2.2478             81100.0  \n",
       "\n",
       "[14091 rows x 7 columns]"
      ]
     },
     "execution_count": 26,
     "metadata": {},
     "output_type": "execute_result"
    }
   ],
   "source": [
    "df"
   ]
  },
  {
   "cell_type": "markdown",
   "id": "b8f8f6a4",
   "metadata": {},
   "source": [
    "## baseline"
   ]
  },
  {
   "cell_type": "code",
   "execution_count": 27,
   "id": "d59dd665",
   "metadata": {},
   "outputs": [],
   "source": [
    "#defining x and y for the dummy model\n",
    "y = df[\"median_house_value\"]\n",
    "x = df.drop(\"median_house_value\", axis=1)"
   ]
  },
  {
   "cell_type": "code",
   "execution_count": 28,
   "id": "7e1167fc",
   "metadata": {},
   "outputs": [
    {
     "data": {
      "text/plain": [
       "0.006458022851465474"
      ]
     },
     "execution_count": 28,
     "metadata": {},
     "output_type": "execute_result"
    }
   ],
   "source": [
    "# instantiate Dummy classifier\n",
    "dummy_clf = DummyClassifier(strategy=\"most_frequent\")\n",
    "\n",
    "# fit the modem\n",
    "dummy_clf.fit(x, y)\n",
    "\n",
    "# calculate the score\n",
    "dummy_clf.score(x, y)"
   ]
  },
  {
   "cell_type": "markdown",
   "id": "aa7b4140",
   "metadata": {},
   "source": [
    "## first iteration model"
   ]
  },
  {
   "cell_type": "code",
   "execution_count": 62,
   "id": "eaecfb9c",
   "metadata": {},
   "outputs": [],
   "source": [
    "y = df[\"median_house_value\"]\n",
    "x = df.drop(\"median_house_value\", axis=1)"
   ]
  },
  {
   "cell_type": "code",
   "execution_count": 63,
   "id": "ee580b50",
   "metadata": {},
   "outputs": [
    {
     "data": {
      "text/plain": [
       "0.5748794716376548"
      ]
     },
     "execution_count": 63,
     "metadata": {},
     "output_type": "execute_result"
    }
   ],
   "source": [
    "# Splitting the data\n",
    "X_train, X_test, y_train, y_test = train_test_split(x, y, test_size=.3, random_state=1)\n",
    "\n",
    "# Choose your model\n",
    "model = LinearRegression()\n",
    "\n",
    "# Fit the model with the train set\n",
    "model.fit(X_train, y_train)\n",
    "\n",
    "# Evaluate the model with the test set\n",
    "model.score(X_test, y_test)"
   ]
  },
  {
   "cell_type": "markdown",
   "id": "72a234db",
   "metadata": {},
   "source": [
    "### evaluation"
   ]
  },
  {
   "cell_type": "code",
   "execution_count": 64,
   "id": "59ab90fd",
   "metadata": {},
   "outputs": [],
   "source": [
    "#taking the funciton form the model evaluation notebook to calculate how many folds are the most efficient\n",
    "K = []\n",
    "total_time = []\n",
    "score = []\n",
    "\n",
    "for k in range(2,40):\n",
    "    cross_val_results = cross_validate(model, x, y, cv=k)\n",
    "    total_time.append(sum(cross_val_results['fit_time'])+sum(cross_val_results['score_time']))\n",
    "    K.append(k)\n",
    "    score.append(cross_val_results['test_score'].mean())"
   ]
  },
  {
   "cell_type": "code",
   "execution_count": 65,
   "id": "07fc10ef",
   "metadata": {},
   "outputs": [
    {
     "data": {
      "text/plain": [
       "<matplotlib.legend.Legend at 0x7f3c2fc9e370>"
      ]
     },
     "execution_count": 65,
     "metadata": {},
     "output_type": "execute_result"
    },
    {
     "data": {
      "image/png": "[encoded data removed]",
      "text/plain": [
       "<Figure size 640x480 with 1 Axes>"
      ]
     },
     "metadata": {},
     "output_type": "display_data"
    }
   ],
   "source": [
    "#plotting it\n",
    "plt.plot(K, score, label = 'Score')\n",
    "plt.ylabel('Score', fontsize = 14)\n",
    "plt.xlabel('K', fontsize = 14)\n",
    "plt.title('K vs Score', fontsize = 18, y = 1.03)\n",
    "plt.legend()"
   ]
  },
  {
   "cell_type": "code",
   "execution_count": 68,
   "id": "85e76569",
   "metadata": {},
   "outputs": [
    {
     "data": {
      "text/plain": [
       "{'fit_time': array([0.00874186, 0.00345469, 0.0054667 ]),\n",
       " 'score_time': array([0.00391293, 0.00263691, 0.00192761]),\n",
       " 'test_score': array([0.56612937, 0.54166344, 0.56508423])}"
      ]
     },
     "execution_count": 68,
     "metadata": {},
     "output_type": "execute_result"
    }
   ],
   "source": [
    "# evaluating my model using cross validation with 15 folds\n",
    "cv_results = cross_validate(model, \n",
    "                            x, y, \n",
    "                            cv=3\n",
    "                           )\n",
    "cv_results"
   ]
  },
  {
   "cell_type": "code",
   "execution_count": 69,
   "id": "aede79ac",
   "metadata": {},
   "outputs": [
    {
     "data": {
      "text/plain": [
       "0.5576256771670192"
      ]
     },
     "execution_count": 69,
     "metadata": {},
     "output_type": "execute_result"
    }
   ],
   "source": [
    "#mean of the test score\n",
    "cv_results['test_score'].mean()"
   ]
  },
  {
   "cell_type": "code",
   "execution_count": null,
   "id": "78fcd995",
   "metadata": {},
   "outputs": [],
   "source": []
  }
 ],
 "metadata": {
  "kernelspec": {
   "display_name": "Python 3 (ipykernel)",
   "language": "python",
   "name": "python3"
  },
  "language_info": {
   "codemirror_mode": {
    "name": "ipython",
    "version": 3
   },
   "file_extension": ".py",
   "mimetype": "text/x-python",
   "name": "python",
   "nbconvert_exporter": "python",
   "pygments_lexer": "ipython3",
   "version": "3.8.12"
  },
  "toc": {
   "base_numbering": 1,
   "nav_menu": {},
   "number_sections": true,
   "sideBar": true,
   "skip_h1_title": false,
   "title_cell": "Table of Contents",
   "title_sidebar": "Contents",
   "toc_cell": false,
   "toc_position": {},
   "toc_section_display": true,
   "toc_window_display": false
  }
 },
 "nbformat": 4,
 "nbformat_minor": 5
}
